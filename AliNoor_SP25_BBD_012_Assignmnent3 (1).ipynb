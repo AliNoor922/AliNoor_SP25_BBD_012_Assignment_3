{
 "cells": [
  {
   "cell_type": "markdown",
   "id": "7dfa55c4-49c8-4f5b-8e0d-97267b247eee",
   "metadata": {},
   "source": [
    "#Question_1"
   ]
  },
  {
   "cell_type": "markdown",
   "id": "651b8fdd-df45-4ce4-9c12-7df405078a4d",
   "metadata": {},
   "source": [
    "dictionary = {'name':'ali','age':19,'city':'lahore','hobbies':'travelling'}\n",
    "print(dictionary)"
   ]
  },
  {
   "cell_type": "markdown",
   "id": "0e702f16-d06b-4fa1-9b51-c0e3bf4ddcda",
   "metadata": {},
   "source": [
    "#Question_2"
   ]
  },
  {
   "cell_type": "markdown",
   "id": "544950f6-9509-441b-8e64-ce2dc34460a0",
   "metadata": {},
   "source": [
    "text = \"this is a text this text contains mutiple values\"\n",
    "word = text.split()\n",
    "words_feq = {}\n",
    "for words in word:\n",
    "    if words in words_feq:\n",
    "        words_feq[words] += 1\n",
    "    else:\n",
    "        words_feq[words] = 1\n",
    "\n",
    "print(words_feq)"
   ]
  },
  {
   "cell_type": "markdown",
   "id": "f4394060-8ead-46f6-9de8-28b017ea2ec5",
   "metadata": {},
   "source": [
    "#Question_3"
   ]
  },
  {
   "cell_type": "markdown",
   "id": "f340a3e2-c307-4aaf-9999-4655ef1d3390",
   "metadata": {},
   "source": [
    "inventory = {'books':12,'bags':3,'laptops':10}\n",
    "inventory['books'] += 3\n",
    "inventory['bags'] -= 1\n",
    "inventory['laptops'] *= 2\n",
    "print(inventory)"
   ]
  },
  {
   "cell_type": "markdown",
   "id": "3b17c616-82da-4073-a9de-b2fa9fceadd3",
   "metadata": {},
   "source": [
    "#Question_4"
   ]
  },
  {
   "cell_type": "markdown",
   "id": "d68ead3e-d337-48a9-a968-ea4ecbe7ad95",
   "metadata": {},
   "source": [
    "orders = {\n",
    "    'pizza': 12,\n",
    "    'burger':5,\n",
    "    'pasta':3\n",
    "}\n",
    "maxi = max(orders.values())\n",
    "for keys, values in orders.items():\n",
    "    if values == maxi:\n",
    "        print(\"Highest Orders are of:\",keys)\n",
    "    break\n",
    "    \n",
    "    "
   ]
  },
  {
   "cell_type": "markdown",
   "id": "22921e69-2c21-4246-a720-3b1ed7d62874",
   "metadata": {},
   "source": [
    "#Question_5"
   ]
  },
  {
   "cell_type": "markdown",
   "id": "5b63da9f-e117-42f9-9953-6c7d944d1435",
   "metadata": {},
   "source": [
    "grades = {'eng':90,'math':88,'computer':100}\n",
    "total_marks = sum(grades.values())\n",
    "length_marks = len(grades)\n",
    "average = round(total_marks/length_marks,2)\n",
    "print(f\"Average:\",average)\n"
   ]
  },
  {
   "cell_type": "markdown",
   "id": "a0c0468a-1bc2-4b90-96f5-34c9e0b836a6",
   "metadata": {},
   "source": [
    "#Question_6"
   ]
  },
  {
   "cell_type": "markdown",
   "id": "130201e6-72f4-4236-ad9f-f2a33453d8ca",
   "metadata": {},
   "source": [
    "inventory = {\n",
    "    'Mouse':{'quantity':100,'price':2000},\n",
    "    'Laptops':{'quantity':50,'price':30000},\n",
    "    'Monitor':{'quantity':45,'price':45000}   \n",
    "}\n",
    "inventory['Keyboard'] = {'quantity':60,'price':2000}\n",
    "inventory['Laptops'] = {'quantity':45,'price':30000}\n",
    "print(inventory)\n",
    "\n",
    "total = sum(items['quantity']*items['price'] for items in inventory.values())\n",
    "print(f\"Total Inventory:\",total)\n",
    "\n",
    "               "
   ]
  },
  {
   "cell_type": "markdown",
   "id": "2df826db-5c9b-475c-be8e-d922b6145faf",
   "metadata": {},
   "source": [
    "inventory = {\n",
    "    \"Laptop\": {\"quantity\": 45, \"price\": 800},\n",
    "    \"Mouse\": {\"quantity\": 60, \"price\": 25},\n",
    "    \"Keyboard\": {\"quantity\": 30, \"price\": 40},\n",
    "    \"Monitor\": {\"quantity\": 80, \"price\": 150},\n",
    "    \"Speakers\": {\"quantity\": 20, \"price\": 70}\n",
    "}\n",
    "\n",
    "\n",
    "print_low_stock(inventory, threshold=50)\n"
   ]
  },
  {
   "cell_type": "markdown",
   "id": "090d646f-f824-4bc5-8184-b9fd4fc9515c",
   "metadata": {},
   "source": [
    "#Question_7"
   ]
  },
  {
   "cell_type": "markdown",
   "id": "6bef167f-00e2-41f1-b9a6-b1bee42227d4",
   "metadata": {},
   "source": [
    "students = {\n",
    "    \"Ali\": {\"Math\": 85, \"Science\": 90},\n",
    "    \"Sara\": {\"Math\": 78, \"Science\": 88},\n",
    "    \"Zain\": {\"Math\": 92, \"Science\": 84}\n",
    "}\n",
    "\n",
    "\n",
    "averages = {name: sum(marks.values()) / len(marks) for name, marks in students.items()}\n",
    "print(\"Student Averages:\", averages)\n",
    "\n",
    "\n",
    "science_scores = {name: marks[\"Science\"] for name, marks in students.items()}\n",
    "highest = max(science_scores, key=science_scores.get)\n",
    "lowest = min(science_scores, key=science_scores.get)\n",
    "print(\"Highest in Science:\", highest)\n",
    "print(\"Lowest in Science:\", lowest)\n",
    "\n",
    "\n",
    "sorted_students = sorted(averages.items(), key=lambda x: x[1], reverse=True)\n",
    "print(\"Sorted by Average:\", sorted_students)\n"
   ]
  }
 ],
 "metadata": {
  "kernelspec": {
   "display_name": "Python 3 (ipykernel)",
   "language": "python",
   "name": "python3"
  },
  "language_info": {
   "codemirror_mode": {
    "name": "ipython",
    "version": 3
   },
   "file_extension": ".py",
   "mimetype": "text/x-python",
   "name": "python",
   "nbconvert_exporter": "python",
   "pygments_lexer": "ipython3",
   "version": "3.12.7"
  }
 },
 "nbformat": 4,
 "nbformat_minor": 5
}
